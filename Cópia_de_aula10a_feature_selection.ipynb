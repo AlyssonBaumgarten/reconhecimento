{
  "cells": [
    {
      "cell_type": "markdown",
      "metadata": {
        "id": "view-in-github",
        "colab_type": "text"
      },
      "source": [
        "<a href=\"https://colab.research.google.com/github/AlyssonBaumgarten/reconhecimento/blob/main/C%C3%B3pia_de_aula10a_feature_selection.ipynb\" target=\"_parent\"><img src=\"https://colab.research.google.com/assets/colab-badge.svg\" alt=\"Open In Colab\"/></a>"
      ]
    },
    {
      "cell_type": "code",
      "execution_count": 1,
      "metadata": {
        "id": "1jKzneXD__td",
        "colab": {
          "base_uri": "https://localhost:8080/"
        },
        "outputId": "89c084ef-c2cd-473f-fb25-ea0d5aa2fdae"
      },
      "outputs": [
        {
          "output_type": "execute_result",
          "data": {
            "text/plain": [
              "((581012, 54), (581012,))"
            ]
          },
          "metadata": {},
          "execution_count": 1
        }
      ],
      "source": [
        "from sklearn.datasets import fetch_covtype\n",
        "X, y = fetch_covtype(return_X_y=True)\n",
        "X.shape, y.shape"
      ]
    },
    {
      "cell_type": "code",
      "execution_count": 4,
      "metadata": {
        "colab": {
          "base_uri": "https://localhost:8080/"
        },
        "id": "WHbJ67NbBRom",
        "outputId": "a631b6e9-6e72-46a4-e035-c652efc80e05"
      },
      "outputs": [
        {
          "output_type": "execute_result",
          "data": {
            "text/plain": [
              "({'fit_time': array([1.27399445, 0.92789054, 0.91595745, 0.91940665, 0.90457892]),\n",
              "  'score_time': array([0.06449389, 0.03621721, 0.03626227, 0.03640294, 0.04157805]),\n",
              "  'test_score': array([0.58947704, 0.76359474, 0.62652106, 0.67569405, 0.54031772])},\n",
              " 0.639120922063683)"
            ]
          },
          "metadata": {},
          "execution_count": 4
        }
      ],
      "source": [
        "from sklearn.model_selection import cross_validate\n",
        "from sklearn.linear_model import RidgeClassifier\n",
        "import numpy as np\n",
        "\n",
        "modelo = RidgeClassifier()\n",
        "scores = cross_validate(modelo, X, y)\n",
        "scores, np.mean(scores['test_score'])"
      ]
    },
    {
      "cell_type": "code",
      "execution_count": 5,
      "metadata": {
        "colab": {
          "base_uri": "https://localhost:8080/"
        },
        "id": "xWS3gVgjDDR6",
        "outputId": "b03cccb6-08ad-4258-bc00-a15aa789c37a"
      },
      "outputs": [
        {
          "output_type": "execute_result",
          "data": {
            "text/plain": [
              "({'fit_time': array([1.40273428, 1.31638074, 1.28447795, 1.30106926, 1.27970958]),\n",
              "  'score_time': array([0.08073378, 0.07966709, 0.0807178 , 0.08154011, 0.08258224]),\n",
              "  'test_score': array([0.58947704, 0.76360335, 0.62653827, 0.6756252 , 0.5407308 ])},\n",
              " 0.6391949311020719)"
            ]
          },
          "metadata": {},
          "execution_count": 5
        }
      ],
      "source": [
        "\n",
        "from sklearn.preprocessing import StandardScaler\n",
        "from sklearn.pipeline import Pipeline\n",
        "\n",
        "modelo = Pipeline([\n",
        "    ('scaler', StandardScaler()),\n",
        "    ('clf', RidgeClassifier())\n",
        "])\n",
        "scores = cross_validate(modelo, X, y)\n",
        "scores, np.mean(scores['test_score'])"
      ]
    },
    {
      "cell_type": "code",
      "execution_count": 6,
      "metadata": {
        "colab": {
          "base_uri": "https://localhost:8080/"
        },
        "id": "_rckQgwOEp7S",
        "outputId": "03c65d24-8b1b-4ea6-d2f4-4ad22986b873"
      },
      "outputs": [
        {
          "output_type": "execute_result",
          "data": {
            "text/plain": [
              "({'fit_time': array([1.14866138, 1.1781528 , 1.12222075, 1.16514802, 1.11904454]),\n",
              "  'score_time': array([0.06627464, 0.060642  , 0.05852604, 0.06089091, 0.05566621]),\n",
              "  'test_score': array([0.6034784 , 0.77028992, 0.63267414, 0.69466963, 0.53096332])},\n",
              " 0.6464150810342003)"
            ]
          },
          "metadata": {},
          "execution_count": 6
        }
      ],
      "source": [
        "from sklearn.feature_selection import VarianceThreshold\n",
        "\n",
        "modelo = Pipeline([\n",
        "    ('fs', VarianceThreshold(threshold=0.01)),\n",
        "    ('clf', RidgeClassifier())\n",
        "])\n",
        "scores = cross_validate(modelo, X, y)\n",
        "scores, np.mean(scores['test_score'])"
      ]
    },
    {
      "cell_type": "code",
      "execution_count": 7,
      "metadata": {
        "colab": {
          "base_uri": "https://localhost:8080/"
        },
        "id": "0B9gDMnBGAbZ",
        "outputId": "13992efb-7119-4499-b4cc-688a607e420d"
      },
      "outputs": [
        {
          "output_type": "execute_result",
          "data": {
            "text/plain": [
              "({'fit_time': array([1.50420976, 1.35821986, 1.32560229, 1.32855606, 1.3722198 ]),\n",
              "  'score_time': array([0.07341552, 0.06644535, 0.06767726, 0.06883621, 0.07252264]),\n",
              "  'test_score': array([0.65963013, 0.75532473, 0.67429993, 0.62916301, 0.52558476])},\n",
              " 0.6488005112564956)"
            ]
          },
          "metadata": {},
          "execution_count": 7
        }
      ],
      "source": [
        "from sklearn.feature_selection import SelectPercentile, f_classif\n",
        "\n",
        "modelo = Pipeline([\n",
        "    ('fsvar', VarianceThreshold()),\n",
        "    ('fsanova', SelectPercentile(f_classif)),\n",
        "    ('clf', RidgeClassifier())\n",
        "])\n",
        "scores = cross_validate(modelo, X, y)\n",
        "scores, np.mean(scores['test_score'])"
      ]
    },
    {
      "cell_type": "code",
      "execution_count": null,
      "metadata": {
        "colab": {
          "base_uri": "https://localhost:8080/"
        },
        "id": "Zp3MA3Fhhvr5",
        "outputId": "ecee6976-9c61-4415-ee3f-28fd32055849"
      },
      "outputs": [
        {
          "name": "stderr",
          "output_type": "stream",
          "text": [
            "/usr/local/lib/python3.10/dist-packages/sklearn/feature_selection/_univariate_selection.py:112: UserWarning: Features [20] are constant.\n",
            "  warnings.warn(\"Features %s are constant.\" % constant_features_idx, UserWarning)\n",
            "/usr/local/lib/python3.10/dist-packages/sklearn/feature_selection/_univariate_selection.py:113: RuntimeWarning: invalid value encountered in divide\n",
            "  f = msb / msw\n",
            "/usr/local/lib/python3.10/dist-packages/sklearn/feature_selection/_univariate_selection.py:112: UserWarning: Features [28] are constant.\n",
            "  warnings.warn(\"Features %s are constant.\" % constant_features_idx, UserWarning)\n",
            "/usr/local/lib/python3.10/dist-packages/sklearn/feature_selection/_univariate_selection.py:113: RuntimeWarning: invalid value encountered in divide\n",
            "  f = msb / msw\n"
          ]
        },
        {
          "data": {
            "text/plain": [
              "({'fit_time': array([1.16229892, 1.17070961, 1.16172957, 1.18280435, 1.64641881]),\n",
              "  'score_time': array([0.07623124, 0.08061862, 0.08273959, 0.08515501, 0.07702923]),\n",
              "  'test_score': array([0.64184229, 0.75251069, 0.68102959, 0.65092683, 0.50394141])},\n",
              " 0.6460501637614057)"
            ]
          },
          "execution_count": 6,
          "metadata": {},
          "output_type": "execute_result"
        }
      ],
      "source": [
        "from sklearn.linear_model import RidgeClassifier\n",
        "from sklearn.preprocessing import StandardScaler\n",
        "from sklearn.feature_selection import SelectKBest, f_classif\n",
        "\n",
        "modelo = Pipeline([\n",
        "    ('scaler', StandardScaler()),\n",
        "    ('feature_selector', SelectKBest(score_func=f_classif, k=10)),\n",
        "    ('clf', RidgeClassifier())\n",
        "])\n",
        "\n",
        "scores = cross_validate(modelo, X, y)\n",
        "scores, np.mean(scores['test_score'])"
      ]
    },
    {
      "cell_type": "code",
      "execution_count": null,
      "metadata": {
        "colab": {
          "base_uri": "https://localhost:8080/"
        },
        "id": "WiYdvSV70zno",
        "outputId": "e3eba08f-cad4-49d5-e0e5-ff01734486a1"
      },
      "outputs": [
        {
          "name": "stderr",
          "output_type": "stream",
          "text": [
            "/usr/local/lib/python3.10/dist-packages/sklearn/feature_selection/_univariate_selection.py:112: UserWarning: Features [20] are constant.\n",
            "  warnings.warn(\"Features %s are constant.\" % constant_features_idx, UserWarning)\n",
            "/usr/local/lib/python3.10/dist-packages/sklearn/feature_selection/_univariate_selection.py:113: RuntimeWarning: invalid value encountered in divide\n",
            "  f = msb / msw\n",
            "/usr/local/lib/python3.10/dist-packages/sklearn/feature_selection/_univariate_selection.py:112: UserWarning: Features [28] are constant.\n",
            "  warnings.warn(\"Features %s are constant.\" % constant_features_idx, UserWarning)\n",
            "/usr/local/lib/python3.10/dist-packages/sklearn/feature_selection/_univariate_selection.py:113: RuntimeWarning: invalid value encountered in divide\n",
            "  f = msb / msw\n"
          ]
        },
        {
          "data": {
            "text/plain": [
              "({'fit_time': array([41.34570575, 85.04314041, 84.02100945, 81.55190945, 77.35655951]),\n",
              "  'score_time': array([2.09448314, 3.70402455, 3.95754433, 3.50675988, 2.80039167]),\n",
              "  'test_score': array([0.67339914, 0.55322152, 0.5435965 , 0.5487341 , 0.54105781])},\n",
              " 0.5720018130141388)"
            ]
          },
          "execution_count": 7,
          "metadata": {},
          "output_type": "execute_result"
        }
      ],
      "source": [
        "from sklearn.preprocessing import StandardScaler\n",
        "from sklearn.feature_selection import SelectKBest, f_classif\n",
        "from sklearn.ensemble import RandomForestClassifier\n",
        "\n",
        "modelo = Pipeline([\n",
        "    ('scaler', StandardScaler()),\n",
        "    ('feature_selector', SelectKBest(score_func=f_classif, k=10)),\n",
        "    ('rfr', RandomForestClassifier())\n",
        "])\n",
        "\n",
        "scores = cross_validate(modelo, X, y)\n",
        "scores, np.mean(scores['test_score'])"
      ]
    },
    {
      "cell_type": "code",
      "execution_count": null,
      "metadata": {
        "colab": {
          "background_save": true
        },
        "id": "gnNHt85X3v8h",
        "outputId": "5ef83af0-d407-402a-8f70-3fe8855371fc"
      },
      "outputs": [
        {
          "data": {
            "text/plain": [
              "({'fit_time': array([37.84856033, 38.68749046, 36.9310627 , 36.37307096, 35.42687941]),\n",
              "  'score_time': array([1.92176533, 1.93145776, 1.95959783, 2.06300688, 2.00524378]),\n",
              "  'test_score': array([0.67069697, 0.76351729, 0.65701967, 0.64554827, 0.53630746])},\n",
              " 0.6546179339180686)"
            ]
          },
          "execution_count": 8,
          "metadata": {},
          "output_type": "execute_result"
        }
      ],
      "source": [
        "from sklearn.feature_selection import SelectPercentile, f_classif\n",
        "\n",
        "modelo = Pipeline([\n",
        "    ('fsvar', VarianceThreshold(threshold=0.01)),\n",
        "    ('fs', SelectPercentile(f_classif)),\n",
        "    ('rfr', RandomForestClassifier())\n",
        "])\n",
        "scores = cross_validate(modelo, X, y)\n",
        "scores, np.mean(scores['test_score'])"
      ]
    },
    {
      "cell_type": "code",
      "source": [
        "from sklearn.linear_model import LogisticRegression\n",
        "\n",
        "modelo = Pipeline([\n",
        "    ('fsvar', VarianceThreshold(threshold=0.01)),\n",
        "    ('scaler', StandardScaler()),\n",
        "    ('lreg', LogisticRegression(solver='newton-cg', max_iter=20))\n",
        "])\n",
        "\n",
        "\n",
        "scores = cross_validate(modelo, X, y)\n",
        "scores, np.mean(scores['test_score'])"
      ],
      "metadata": {
        "id": "rB0YIOyhmSvT"
      },
      "execution_count": null,
      "outputs": []
    },
    {
      "cell_type": "code",
      "execution_count": null,
      "metadata": {
        "colab": {
          "base_uri": "https://localhost:8080/"
        },
        "id": "mpKNAbin3_W3",
        "outputId": "40d9a783-440d-485b-e73b-7f3cdab65650"
      },
      "outputs": [
        {
          "output_type": "stream",
          "name": "stderr",
          "text": [
            "/usr/local/lib/python3.10/dist-packages/sklearn/svm/_base.py:1244: ConvergenceWarning: Liblinear failed to converge, increase the number of iterations.\n",
            "  warnings.warn(\n",
            "/usr/local/lib/python3.10/dist-packages/sklearn/svm/_base.py:1244: ConvergenceWarning: Liblinear failed to converge, increase the number of iterations.\n",
            "  warnings.warn(\n",
            "/usr/local/lib/python3.10/dist-packages/sklearn/svm/_base.py:1244: ConvergenceWarning: Liblinear failed to converge, increase the number of iterations.\n",
            "  warnings.warn(\n",
            "/usr/local/lib/python3.10/dist-packages/sklearn/svm/_base.py:1244: ConvergenceWarning: Liblinear failed to converge, increase the number of iterations.\n",
            "  warnings.warn(\n",
            "/usr/local/lib/python3.10/dist-packages/sklearn/svm/_base.py:1244: ConvergenceWarning: Liblinear failed to converge, increase the number of iterations.\n",
            "  warnings.warn(\n"
          ]
        }
      ],
      "source": [
        "from sklearn.feature_selection import RFE\n",
        "from sklearn.svm import LinearSVC\n",
        "\n",
        "modelo = Pipeline([\n",
        "    ('sclr', StandardScaler()),\n",
        "    ('fsvar', VarianceThreshold(threshold=0.01)),\n",
        "    ('rfe', RFE(LinearSVC(penalty='l1', dual=False))),\n",
        "    ('rfr', RandomForestClassifier())\n",
        "])\n",
        "scores = cross_validate(modelo, X, y)\n",
        "scores, np.mean(scores['test_score'])\n",
        "\n",
        "#RandomForestClassifier(n_estimators=100, random_state=0)"
      ]
    },
    {
      "cell_type": "code",
      "execution_count": null,
      "metadata": {
        "id": "bEKFgBWa4MR5"
      },
      "outputs": [],
      "source": [
        "\n",
        "from sklearn.feature_selection import SelectFromModel\n",
        "from sklearn.svm import LinearSVC\n",
        "\n",
        "modelo = Pipeline([\n",
        "    ('sclr', StandardScaler()),\n",
        "    ('fsvar', VarianceThreshold(threshold=0.01)),\n",
        "    ('fs', SelectFromModel(LinearSVC())),\n",
        "    ('rfr', RandomForestClassifier())\n",
        "])\n",
        "scores = cross_validate(modelo, X, y)\n",
        "scores, np.mean(scores['test_score'])\n"
      ]
    },
    {
      "cell_type": "code",
      "execution_count": null,
      "metadata": {
        "id": "vl8OsMku4CNc"
      },
      "outputs": [],
      "source": [
        "from sklearn.feature_selection import SequentialFeatureSelector\n",
        "from sklearn.neighbors import KNeighborsClassifier\n",
        "\n",
        "modelo = Pipeline([\n",
        "    ('sclr', StandardScaler()),\n",
        "    ('fsvar', VarianceThreshold(threshold=0.01)),\n",
        "    ('fs', SequentialFeatureSelector(KNeighborsClassifier(n_neighbors=3))),\n",
        "    ('rfr', RandomForestClassifier())\n",
        "])\n",
        "scores = cross_validate(modelo, X, y, verbose=1)\n",
        "scores, np.mean(scores['test_score'])\n"
      ]
    },
    {
      "cell_type": "code",
      "execution_count": null,
      "metadata": {
        "id": "zePNk25WLUNq"
      },
      "outputs": [],
      "source": [
        "from sklearn.feature_selection import RFECV, VarianceThreshold\n",
        "from sklearn.svm import LinearSVR\n",
        "from sklearn.model_selection import cross_validate\n",
        "from sklearn.svm import SVR\n",
        "\n",
        "\n",
        "# Define o modelo com seleção de características\n",
        "modelo = Pipeline([\n",
        "    ('scaler', StandardScaler()),\n",
        "    ('rfecv',  RFECV(SVR(kernel=\"linear\")))\n",
        "])\n",
        "\n",
        "# Realiza a validação cruzada e avalia o desempenho\n",
        "scores = cross_validate(modelo, X, y)\n",
        "scores, np.mean(scores['test_score'])\n"
      ]
    },
    {
      "cell_type": "code",
      "execution_count": null,
      "metadata": {
        "id": "hmW2UyoLYaXD"
      },
      "outputs": [],
      "source": [
        "from sklearn.feature_selection import RFE\n",
        "from sklearn.svm import SVR\n",
        "\n",
        "modelo = Pipeline([\n",
        "    ('fsvar', VarianceThreshold()),\n",
        "    ('rfe', RFE(LinearSVR(), n_features_to_select=5, step=1))\n",
        "])\n",
        "scores = cross_validate(modelo, X, y)\n",
        "scores, np.mean(scores['test_score'])"
      ]
    }
  ],
  "metadata": {
    "colab": {
      "provenance": [],
      "include_colab_link": true
    },
    "kernelspec": {
      "display_name": "Python 3",
      "name": "python3"
    },
    "language_info": {
      "name": "python"
    }
  },
  "nbformat": 4,
  "nbformat_minor": 0
}