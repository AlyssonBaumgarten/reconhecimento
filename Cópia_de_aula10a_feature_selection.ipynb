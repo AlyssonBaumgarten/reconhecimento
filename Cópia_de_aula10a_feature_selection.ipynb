{
  "cells": [
    {
      "cell_type": "markdown",
      "metadata": {
        "id": "view-in-github",
        "colab_type": "text"
      },
      "source": [
        "<a href=\"https://colab.research.google.com/github/AlyssonBaumgarten/reconhecimento/blob/main/C%C3%B3pia_de_aula10a_feature_selection.ipynb\" target=\"_parent\"><img src=\"https://colab.research.google.com/assets/colab-badge.svg\" alt=\"Open In Colab\"/></a>"
      ]
    },
    {
      "cell_type": "code",
      "execution_count": 2,
      "metadata": {
        "colab": {
          "base_uri": "https://localhost:8080/"
        },
        "id": "1jKzneXD__td",
        "outputId": "84765865-b811-43a8-dfad-d9086609274c"
      },
      "outputs": [
        {
          "output_type": "execute_result",
          "data": {
            "text/plain": [
              "((581012, 54), (581012,))"
            ]
          },
          "metadata": {},
          "execution_count": 2
        }
      ],
      "source": [
        "from sklearn.datasets import fetch_covtype\n",
        "X, y = fetch_covtype(return_X_y=True)\n",
        "X.shape, y.shape"
      ]
    },
    {
      "cell_type": "code",
      "execution_count": 17,
      "metadata": {
        "colab": {
          "base_uri": "https://localhost:8080/"
        },
        "id": "WHbJ67NbBRom",
        "outputId": "298c1797-dd94-4af4-e93f-5da25cae0c39"
      },
      "outputs": [
        {
          "output_type": "execute_result",
          "data": {
            "text/plain": [
              "({'fit_time': array([1.80929303, 0.9672966 , 0.96884966, 0.96462083, 0.95462966]),\n",
              "  'score_time': array([0.05644774, 0.0397985 , 0.04072118, 0.04400492, 0.03919101]),\n",
              "  'test_score': array([0.58947704, 0.76359474, 0.62652106, 0.67569405, 0.54031772])},\n",
              " 0.639120922063683)"
            ]
          },
          "metadata": {},
          "execution_count": 17
        }
      ],
      "source": [
        "from sklearn.model_selection import cross_validate\n",
        "from sklearn.linear_model import RidgeClassifier\n",
        "import numpy as np\n",
        "\n",
        "modelo = RidgeClassifier()\n",
        "scores = cross_validate(modelo, X, y)\n",
        "scores, np.mean(scores['test_score'])"
      ]
    },
    {
      "cell_type": "code",
      "execution_count": 13,
      "metadata": {
        "colab": {
          "base_uri": "https://localhost:8080/"
        },
        "id": "xWS3gVgjDDR6",
        "outputId": "359fa449-8cbb-4e15-e29f-5f19d39230d1"
      },
      "outputs": [
        {
          "output_type": "execute_result",
          "data": {
            "text/plain": [
              "({'fit_time': array([1.38735747, 1.36344767, 1.57115793, 1.74890327, 1.3250289 ]),\n",
              "  'score_time': array([0.08395886, 0.09106088, 0.15291119, 0.08438444, 0.10648203]),\n",
              "  'test_score': array([0.58947704, 0.76360335, 0.62653827, 0.6756252 , 0.5407308 ])},\n",
              " 0.6391949311020719)"
            ]
          },
          "metadata": {},
          "execution_count": 13
        }
      ],
      "source": [
        "\n",
        "from sklearn.preprocessing import StandardScaler\n",
        "from sklearn.pipeline import Pipeline\n",
        "\n",
        "modelo = Pipeline([\n",
        "    ('scaler', StandardScaler()),\n",
        "    ('clf', RidgeClassifier())\n",
        "])\n",
        "scores = cross_validate(modelo, X, y)\n",
        "scores, np.mean(scores['test_score'])"
      ]
    },
    {
      "cell_type": "code",
      "execution_count": 14,
      "metadata": {
        "colab": {
          "base_uri": "https://localhost:8080/"
        },
        "id": "_rckQgwOEp7S",
        "outputId": "1101953b-8124-4c37-9721-a870ae37dafe"
      },
      "outputs": [
        {
          "output_type": "execute_result",
          "data": {
            "text/plain": [
              "({'fit_time': array([1.20509052, 1.57026935, 1.41515231, 1.22320795, 1.18784332]),\n",
              "  'score_time': array([0.07095218, 0.10698915, 0.06715918, 0.06842995, 0.06462741]),\n",
              "  'test_score': array([0.6034784 , 0.77028992, 0.63267414, 0.69466963, 0.53096332])},\n",
              " 0.6464150810342003)"
            ]
          },
          "metadata": {},
          "execution_count": 14
        }
      ],
      "source": [
        "from sklearn.feature_selection import VarianceThreshold\n",
        "\n",
        "modelo = Pipeline([\n",
        "    ('fs', VarianceThreshold(threshold=0.01)),\n",
        "    ('clf', RidgeClassifier())\n",
        "])\n",
        "scores = cross_validate(modelo, X, y)\n",
        "scores, np.mean(scores['test_score'])"
      ]
    },
    {
      "cell_type": "code",
      "execution_count": 32,
      "metadata": {
        "colab": {
          "base_uri": "https://localhost:8080/"
        },
        "id": "0B9gDMnBGAbZ",
        "outputId": "7852f7fe-e22c-4546-fc1a-151d6fb87590"
      },
      "outputs": [
        {
          "output_type": "execute_result",
          "data": {
            "text/plain": [
              "({'fit_time': array([1.46681285, 1.47925639, 1.59683514, 1.91174674, 1.4688971 ]),\n",
              "  'score_time': array([0.11066055, 0.08620858, 0.19035602, 0.10480952, 0.09326696]),\n",
              "  'test_score': array([0.65963013, 0.75532473, 0.67429993, 0.62916301, 0.52558476])},\n",
              " 0.6488005112564956)"
            ]
          },
          "metadata": {},
          "execution_count": 32
        }
      ],
      "source": [
        "from sklearn.feature_selection import SelectPercentile, f_classif\n",
        "\n",
        "modelo = Pipeline([\n",
        "    ('fsvar', VarianceThreshold()),\n",
        "    ('fsanova', SelectPercentile(f_classif)),\n",
        "    ('clf', RidgeClassifier())\n",
        "])\n",
        "scores = cross_validate(modelo, X, y)\n",
        "scores, np.mean(scores['test_score'])"
      ]
    },
    {
      "cell_type": "code",
      "execution_count": 6,
      "metadata": {
        "colab": {
          "base_uri": "https://localhost:8080/"
        },
        "id": "Zp3MA3Fhhvr5",
        "outputId": "37bcacca-769d-4eda-c636-47639dce079f"
      },
      "outputs": [
        {
          "output_type": "stream",
          "name": "stderr",
          "text": [
            "/usr/local/lib/python3.10/dist-packages/sklearn/feature_selection/_univariate_selection.py:112: UserWarning: Features [20] are constant.\n",
            "  warnings.warn(\"Features %s are constant.\" % constant_features_idx, UserWarning)\n",
            "/usr/local/lib/python3.10/dist-packages/sklearn/feature_selection/_univariate_selection.py:113: RuntimeWarning: invalid value encountered in divide\n",
            "  f = msb / msw\n",
            "/usr/local/lib/python3.10/dist-packages/sklearn/feature_selection/_univariate_selection.py:112: UserWarning: Features [28] are constant.\n",
            "  warnings.warn(\"Features %s are constant.\" % constant_features_idx, UserWarning)\n",
            "/usr/local/lib/python3.10/dist-packages/sklearn/feature_selection/_univariate_selection.py:113: RuntimeWarning: invalid value encountered in divide\n",
            "  f = msb / msw\n"
          ]
        },
        {
          "output_type": "execute_result",
          "data": {
            "text/plain": [
              "({'fit_time': array([1.20562673, 1.20657063, 1.2039156 , 1.20311737, 1.19773602]),\n",
              "  'score_time': array([0.08117127, 0.07932544, 0.0833118 , 0.08037019, 0.08935595]),\n",
              "  'test_score': array([0.64184229, 0.75251069, 0.68102959, 0.65092683, 0.50394141])},\n",
              " 0.6460501637614057)"
            ]
          },
          "metadata": {},
          "execution_count": 6
        }
      ],
      "source": [
        "from sklearn.linear_model import RidgeClassifier\n",
        "from sklearn.preprocessing import StandardScaler\n",
        "from sklearn.feature_selection import SelectKBest, f_classif\n",
        "\n",
        "modelo = Pipeline([\n",
        "    ('scaler', StandardScaler()),\n",
        "    ('feature_selector', SelectKBest(score_func=f_classif, k=10)),\n",
        "    ('clf', RidgeClassifier())\n",
        "])\n",
        "\n",
        "scores = cross_validate(modelo, X, y)\n",
        "scores, np.mean(scores['test_score'])"
      ]
    },
    {
      "cell_type": "code",
      "execution_count": null,
      "metadata": {
        "colab": {
          "base_uri": "https://localhost:8080/"
        },
        "id": "WiYdvSV70zno",
        "outputId": "e3eba08f-cad4-49d5-e0e5-ff01734486a1"
      },
      "outputs": [
        {
          "name": "stderr",
          "output_type": "stream",
          "text": [
            "/usr/local/lib/python3.10/dist-packages/sklearn/feature_selection/_univariate_selection.py:112: UserWarning: Features [20] are constant.\n",
            "  warnings.warn(\"Features %s are constant.\" % constant_features_idx, UserWarning)\n",
            "/usr/local/lib/python3.10/dist-packages/sklearn/feature_selection/_univariate_selection.py:113: RuntimeWarning: invalid value encountered in divide\n",
            "  f = msb / msw\n",
            "/usr/local/lib/python3.10/dist-packages/sklearn/feature_selection/_univariate_selection.py:112: UserWarning: Features [28] are constant.\n",
            "  warnings.warn(\"Features %s are constant.\" % constant_features_idx, UserWarning)\n",
            "/usr/local/lib/python3.10/dist-packages/sklearn/feature_selection/_univariate_selection.py:113: RuntimeWarning: invalid value encountered in divide\n",
            "  f = msb / msw\n"
          ]
        },
        {
          "data": {
            "text/plain": [
              "({'fit_time': array([41.34570575, 85.04314041, 84.02100945, 81.55190945, 77.35655951]),\n",
              "  'score_time': array([2.09448314, 3.70402455, 3.95754433, 3.50675988, 2.80039167]),\n",
              "  'test_score': array([0.67339914, 0.55322152, 0.5435965 , 0.5487341 , 0.54105781])},\n",
              " 0.5720018130141388)"
            ]
          },
          "execution_count": 7,
          "metadata": {},
          "output_type": "execute_result"
        }
      ],
      "source": [
        "from sklearn.preprocessing import StandardScaler\n",
        "from sklearn.feature_selection import SelectKBest, f_classif\n",
        "from sklearn.ensemble import RandomForestClassifier\n",
        "\n",
        "modelo = Pipeline([\n",
        "    ('scaler', StandardScaler()),\n",
        "    ('feature_selector', SelectKBest(score_func=f_classif, k=10)),\n",
        "    ('rfr', RandomForestClassifier())\n",
        "])\n",
        "\n",
        "scores = cross_validate(modelo, X, y)\n",
        "scores, np.mean(scores['test_score'])"
      ]
    },
    {
      "cell_type": "code",
      "execution_count": null,
      "metadata": {
        "colab": {
          "background_save": true
        },
        "id": "gnNHt85X3v8h",
        "outputId": "5ef83af0-d407-402a-8f70-3fe8855371fc"
      },
      "outputs": [
        {
          "data": {
            "text/plain": [
              "({'fit_time': array([37.84856033, 38.68749046, 36.9310627 , 36.37307096, 35.42687941]),\n",
              "  'score_time': array([1.92176533, 1.93145776, 1.95959783, 2.06300688, 2.00524378]),\n",
              "  'test_score': array([0.67069697, 0.76351729, 0.65701967, 0.64554827, 0.53630746])},\n",
              " 0.6546179339180686)"
            ]
          },
          "execution_count": 8,
          "metadata": {},
          "output_type": "execute_result"
        }
      ],
      "source": [
        "from sklearn.feature_selection import SelectPercentile, f_classif\n",
        "\n",
        "modelo = Pipeline([\n",
        "    ('fsvar', VarianceThreshold(threshold=0.01)),\n",
        "    ('fs', SelectPercentile(f_classif)),\n",
        "    ('rfr', RandomForestClassifier())\n",
        "])\n",
        "scores = cross_validate(modelo, X, y)\n",
        "scores, np.mean(scores['test_score'])"
      ]
    },
    {
      "cell_type": "code",
      "execution_count": null,
      "metadata": {
        "colab": {
          "background_save": true,
          "base_uri": "https://localhost:8080/"
        },
        "id": "rB0YIOyhmSvT",
        "outputId": "908af6b9-28c6-4dce-f300-34f4840284eb"
      },
      "outputs": [
        {
          "name": "stderr",
          "output_type": "stream",
          "text": [
            "/usr/local/lib/python3.10/dist-packages/sklearn/utils/optimize.py:210: ConvergenceWarning: newton-cg failed to converge. Increase the number of iterations.\n",
            "  warnings.warn(\n",
            "/usr/local/lib/python3.10/dist-packages/sklearn/utils/optimize.py:210: ConvergenceWarning: newton-cg failed to converge. Increase the number of iterations.\n",
            "  warnings.warn(\n",
            "/usr/local/lib/python3.10/dist-packages/sklearn/utils/optimize.py:210: ConvergenceWarning: newton-cg failed to converge. Increase the number of iterations.\n",
            "  warnings.warn(\n",
            "/usr/local/lib/python3.10/dist-packages/sklearn/utils/optimize.py:210: ConvergenceWarning: newton-cg failed to converge. Increase the number of iterations.\n",
            "  warnings.warn(\n",
            "/usr/local/lib/python3.10/dist-packages/sklearn/utils/optimize.py:210: ConvergenceWarning: newton-cg failed to converge. Increase the number of iterations.\n",
            "  warnings.warn(\n"
          ]
        },
        {
          "data": {
            "text/plain": [
              "({'fit_time': array([197.3479979 , 186.71674395, 200.21345973, 178.47936344,\n",
              "         163.96280122]),\n",
              "  'score_time': array([0.09654546, 0.14865971, 0.08658791, 0.09709883, 0.08685112]),\n",
              "  'test_score': array([0.61149024, 0.78954932, 0.60375897, 0.71184661, 0.57048932])},\n",
              " 0.6574268927564757)"
            ]
          },
          "execution_count": 9,
          "metadata": {},
          "output_type": "execute_result"
        }
      ],
      "source": [
        "from sklearn.linear_model import LogisticRegression\n",
        "\n",
        "modelo = Pipeline([\n",
        "    ('fsvar', VarianceThreshold(threshold=0.01)),\n",
        "    ('scaler', StandardScaler()),\n",
        "    ('lreg', LogisticRegression(solver='newton-cg', max_iter=20))\n",
        "])\n",
        "\n",
        "\n",
        "scores = cross_validate(modelo, X, y)\n",
        "scores, np.mean(scores['test_score'])"
      ]
    }
  ],
  "metadata": {
    "colab": {
      "provenance": [],
      "include_colab_link": true
    },
    "kernelspec": {
      "display_name": "Python 3",
      "name": "python3"
    },
    "language_info": {
      "name": "python"
    }
  },
  "nbformat": 4,
  "nbformat_minor": 0
}